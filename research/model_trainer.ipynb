{
 "cells": [
  {
   "cell_type": "code",
   "execution_count": 1,
   "id": "94fe5b75",
   "metadata": {},
   "outputs": [],
   "source": [
    "# import necessary libraries\n",
    "import pandas as pd\n",
    "import numpy as np"
   ]
  },
  {
   "cell_type": "code",
   "execution_count": 2,
   "id": "9504d69b",
   "metadata": {},
   "outputs": [
    {
     "data": {
      "text/html": [
       "<div>\n",
       "<style scoped>\n",
       "    .dataframe tbody tr th:only-of-type {\n",
       "        vertical-align: middle;\n",
       "    }\n",
       "\n",
       "    .dataframe tbody tr th {\n",
       "        vertical-align: top;\n",
       "    }\n",
       "\n",
       "    .dataframe thead th {\n",
       "        text-align: right;\n",
       "    }\n",
       "</style>\n",
       "<table border=\"1\" class=\"dataframe\">\n",
       "  <thead>\n",
       "    <tr style=\"text-align: right;\">\n",
       "      <th></th>\n",
       "      <th>itching</th>\n",
       "      <th>skin_rash</th>\n",
       "      <th>nodal_skin_eruptions</th>\n",
       "      <th>continuous_sneezing</th>\n",
       "      <th>shivering</th>\n",
       "      <th>chills</th>\n",
       "      <th>joint_pain</th>\n",
       "      <th>stomach_pain</th>\n",
       "      <th>acidity</th>\n",
       "      <th>ulcers_on_tongue</th>\n",
       "      <th>...</th>\n",
       "      <th>blackheads</th>\n",
       "      <th>scurring</th>\n",
       "      <th>skin_peeling</th>\n",
       "      <th>silver_like_dusting</th>\n",
       "      <th>small_dents_in_nails</th>\n",
       "      <th>inflammatory_nails</th>\n",
       "      <th>blister</th>\n",
       "      <th>red_sore_around_nose</th>\n",
       "      <th>yellow_crust_ooze</th>\n",
       "      <th>prognosis</th>\n",
       "    </tr>\n",
       "  </thead>\n",
       "  <tbody>\n",
       "    <tr>\n",
       "      <th>0</th>\n",
       "      <td>1</td>\n",
       "      <td>1</td>\n",
       "      <td>1</td>\n",
       "      <td>0</td>\n",
       "      <td>0</td>\n",
       "      <td>0</td>\n",
       "      <td>0</td>\n",
       "      <td>0</td>\n",
       "      <td>0</td>\n",
       "      <td>0</td>\n",
       "      <td>...</td>\n",
       "      <td>0</td>\n",
       "      <td>0</td>\n",
       "      <td>0</td>\n",
       "      <td>0</td>\n",
       "      <td>0</td>\n",
       "      <td>0</td>\n",
       "      <td>0</td>\n",
       "      <td>0</td>\n",
       "      <td>0</td>\n",
       "      <td>Fungal infection</td>\n",
       "    </tr>\n",
       "    <tr>\n",
       "      <th>1</th>\n",
       "      <td>0</td>\n",
       "      <td>1</td>\n",
       "      <td>1</td>\n",
       "      <td>0</td>\n",
       "      <td>0</td>\n",
       "      <td>0</td>\n",
       "      <td>0</td>\n",
       "      <td>0</td>\n",
       "      <td>0</td>\n",
       "      <td>0</td>\n",
       "      <td>...</td>\n",
       "      <td>0</td>\n",
       "      <td>0</td>\n",
       "      <td>0</td>\n",
       "      <td>0</td>\n",
       "      <td>0</td>\n",
       "      <td>0</td>\n",
       "      <td>0</td>\n",
       "      <td>0</td>\n",
       "      <td>0</td>\n",
       "      <td>Fungal infection</td>\n",
       "    </tr>\n",
       "    <tr>\n",
       "      <th>2</th>\n",
       "      <td>1</td>\n",
       "      <td>0</td>\n",
       "      <td>1</td>\n",
       "      <td>0</td>\n",
       "      <td>0</td>\n",
       "      <td>0</td>\n",
       "      <td>0</td>\n",
       "      <td>0</td>\n",
       "      <td>0</td>\n",
       "      <td>0</td>\n",
       "      <td>...</td>\n",
       "      <td>0</td>\n",
       "      <td>0</td>\n",
       "      <td>0</td>\n",
       "      <td>0</td>\n",
       "      <td>0</td>\n",
       "      <td>0</td>\n",
       "      <td>0</td>\n",
       "      <td>0</td>\n",
       "      <td>0</td>\n",
       "      <td>Fungal infection</td>\n",
       "    </tr>\n",
       "    <tr>\n",
       "      <th>3</th>\n",
       "      <td>1</td>\n",
       "      <td>1</td>\n",
       "      <td>0</td>\n",
       "      <td>0</td>\n",
       "      <td>0</td>\n",
       "      <td>0</td>\n",
       "      <td>0</td>\n",
       "      <td>0</td>\n",
       "      <td>0</td>\n",
       "      <td>0</td>\n",
       "      <td>...</td>\n",
       "      <td>0</td>\n",
       "      <td>0</td>\n",
       "      <td>0</td>\n",
       "      <td>0</td>\n",
       "      <td>0</td>\n",
       "      <td>0</td>\n",
       "      <td>0</td>\n",
       "      <td>0</td>\n",
       "      <td>0</td>\n",
       "      <td>Fungal infection</td>\n",
       "    </tr>\n",
       "    <tr>\n",
       "      <th>4</th>\n",
       "      <td>1</td>\n",
       "      <td>1</td>\n",
       "      <td>1</td>\n",
       "      <td>0</td>\n",
       "      <td>0</td>\n",
       "      <td>0</td>\n",
       "      <td>0</td>\n",
       "      <td>0</td>\n",
       "      <td>0</td>\n",
       "      <td>0</td>\n",
       "      <td>...</td>\n",
       "      <td>0</td>\n",
       "      <td>0</td>\n",
       "      <td>0</td>\n",
       "      <td>0</td>\n",
       "      <td>0</td>\n",
       "      <td>0</td>\n",
       "      <td>0</td>\n",
       "      <td>0</td>\n",
       "      <td>0</td>\n",
       "      <td>Fungal infection</td>\n",
       "    </tr>\n",
       "  </tbody>\n",
       "</table>\n",
       "<p>5 rows × 133 columns</p>\n",
       "</div>"
      ],
      "text/plain": [
       "   itching  skin_rash  nodal_skin_eruptions  continuous_sneezing  shivering  \\\n",
       "0        1          1                     1                    0          0   \n",
       "1        0          1                     1                    0          0   \n",
       "2        1          0                     1                    0          0   \n",
       "3        1          1                     0                    0          0   \n",
       "4        1          1                     1                    0          0   \n",
       "\n",
       "   chills  joint_pain  stomach_pain  acidity  ulcers_on_tongue  ...  \\\n",
       "0       0           0             0        0                 0  ...   \n",
       "1       0           0             0        0                 0  ...   \n",
       "2       0           0             0        0                 0  ...   \n",
       "3       0           0             0        0                 0  ...   \n",
       "4       0           0             0        0                 0  ...   \n",
       "\n",
       "   blackheads  scurring  skin_peeling  silver_like_dusting  \\\n",
       "0           0         0             0                    0   \n",
       "1           0         0             0                    0   \n",
       "2           0         0             0                    0   \n",
       "3           0         0             0                    0   \n",
       "4           0         0             0                    0   \n",
       "\n",
       "   small_dents_in_nails  inflammatory_nails  blister  red_sore_around_nose  \\\n",
       "0                     0                   0        0                     0   \n",
       "1                     0                   0        0                     0   \n",
       "2                     0                   0        0                     0   \n",
       "3                     0                   0        0                     0   \n",
       "4                     0                   0        0                     0   \n",
       "\n",
       "   yellow_crust_ooze         prognosis  \n",
       "0                  0  Fungal infection  \n",
       "1                  0  Fungal infection  \n",
       "2                  0  Fungal infection  \n",
       "3                  0  Fungal infection  \n",
       "4                  0  Fungal infection  \n",
       "\n",
       "[5 rows x 133 columns]"
      ]
     },
     "execution_count": 2,
     "metadata": {},
     "output_type": "execute_result"
    }
   ],
   "source": [
    "# read dataset\n",
    "df = pd.read_csv(r\"C:\\Users\\Rengarajan\\My_Projects\\DiseasePrognosis\\artifacts\\data_ingestion\\Disease_pred_dataset\\data.csv\")\n",
    "df.head()"
   ]
  },
  {
   "cell_type": "code",
   "execution_count": 3,
   "id": "32c87dc4",
   "metadata": {},
   "outputs": [],
   "source": [
    "# independent & dependent features\n",
    "X = df.iloc[:,:-1]\n",
    "y = df.iloc[:,-1]"
   ]
  },
  {
   "cell_type": "code",
   "execution_count": 4,
   "id": "93c02bfd",
   "metadata": {},
   "outputs": [],
   "source": [
    "# train test split\n",
    "from sklearn.model_selection import train_test_split\n",
    "X_train, X_test, y_train, y_test = train_test_split(X, y, test_size=0.2, random_state=42)"
   ]
  },
  {
   "cell_type": "code",
   "execution_count": 5,
   "id": "ca4ea47f",
   "metadata": {},
   "outputs": [
    {
     "data": {
      "text/html": [
       "<style>#sk-container-id-1 {color: black;}#sk-container-id-1 pre{padding: 0;}#sk-container-id-1 div.sk-toggleable {background-color: white;}#sk-container-id-1 label.sk-toggleable__label {cursor: pointer;display: block;width: 100%;margin-bottom: 0;padding: 0.3em;box-sizing: border-box;text-align: center;}#sk-container-id-1 label.sk-toggleable__label-arrow:before {content: \"▸\";float: left;margin-right: 0.25em;color: #696969;}#sk-container-id-1 label.sk-toggleable__label-arrow:hover:before {color: black;}#sk-container-id-1 div.sk-estimator:hover label.sk-toggleable__label-arrow:before {color: black;}#sk-container-id-1 div.sk-toggleable__content {max-height: 0;max-width: 0;overflow: hidden;text-align: left;background-color: #f0f8ff;}#sk-container-id-1 div.sk-toggleable__content pre {margin: 0.2em;color: black;border-radius: 0.25em;background-color: #f0f8ff;}#sk-container-id-1 input.sk-toggleable__control:checked~div.sk-toggleable__content {max-height: 200px;max-width: 100%;overflow: auto;}#sk-container-id-1 input.sk-toggleable__control:checked~label.sk-toggleable__label-arrow:before {content: \"▾\";}#sk-container-id-1 div.sk-estimator input.sk-toggleable__control:checked~label.sk-toggleable__label {background-color: #d4ebff;}#sk-container-id-1 div.sk-label input.sk-toggleable__control:checked~label.sk-toggleable__label {background-color: #d4ebff;}#sk-container-id-1 input.sk-hidden--visually {border: 0;clip: rect(1px 1px 1px 1px);clip: rect(1px, 1px, 1px, 1px);height: 1px;margin: -1px;overflow: hidden;padding: 0;position: absolute;width: 1px;}#sk-container-id-1 div.sk-estimator {font-family: monospace;background-color: #f0f8ff;border: 1px dotted black;border-radius: 0.25em;box-sizing: border-box;margin-bottom: 0.5em;}#sk-container-id-1 div.sk-estimator:hover {background-color: #d4ebff;}#sk-container-id-1 div.sk-parallel-item::after {content: \"\";width: 100%;border-bottom: 1px solid gray;flex-grow: 1;}#sk-container-id-1 div.sk-label:hover label.sk-toggleable__label {background-color: #d4ebff;}#sk-container-id-1 div.sk-serial::before {content: \"\";position: absolute;border-left: 1px solid gray;box-sizing: border-box;top: 0;bottom: 0;left: 50%;z-index: 0;}#sk-container-id-1 div.sk-serial {display: flex;flex-direction: column;align-items: center;background-color: white;padding-right: 0.2em;padding-left: 0.2em;position: relative;}#sk-container-id-1 div.sk-item {position: relative;z-index: 1;}#sk-container-id-1 div.sk-parallel {display: flex;align-items: stretch;justify-content: center;background-color: white;position: relative;}#sk-container-id-1 div.sk-item::before, #sk-container-id-1 div.sk-parallel-item::before {content: \"\";position: absolute;border-left: 1px solid gray;box-sizing: border-box;top: 0;bottom: 0;left: 50%;z-index: -1;}#sk-container-id-1 div.sk-parallel-item {display: flex;flex-direction: column;z-index: 1;position: relative;background-color: white;}#sk-container-id-1 div.sk-parallel-item:first-child::after {align-self: flex-end;width: 50%;}#sk-container-id-1 div.sk-parallel-item:last-child::after {align-self: flex-start;width: 50%;}#sk-container-id-1 div.sk-parallel-item:only-child::after {width: 0;}#sk-container-id-1 div.sk-dashed-wrapped {border: 1px dashed gray;margin: 0 0.4em 0.5em 0.4em;box-sizing: border-box;padding-bottom: 0.4em;background-color: white;}#sk-container-id-1 div.sk-label label {font-family: monospace;font-weight: bold;display: inline-block;line-height: 1.2em;}#sk-container-id-1 div.sk-label-container {text-align: center;}#sk-container-id-1 div.sk-container {/* jupyter's `normalize.less` sets `[hidden] { display: none; }` but bootstrap.min.css set `[hidden] { display: none !important; }` so we also need the `!important` here to be able to override the default hidden behavior on the sphinx rendered scikit-learn.org. See: https://github.com/scikit-learn/scikit-learn/issues/21755 */display: inline-block !important;position: relative;}#sk-container-id-1 div.sk-text-repr-fallback {display: none;}</style><div id=\"sk-container-id-1\" class=\"sk-top-container\"><div class=\"sk-text-repr-fallback\"><pre>RandomForestClassifier(random_state=42)</pre><b>In a Jupyter environment, please rerun this cell to show the HTML representation or trust the notebook. <br />On GitHub, the HTML representation is unable to render, please try loading this page with nbviewer.org.</b></div><div class=\"sk-container\" hidden><div class=\"sk-item\"><div class=\"sk-estimator sk-toggleable\"><input class=\"sk-toggleable__control sk-hidden--visually\" id=\"sk-estimator-id-1\" type=\"checkbox\" checked><label for=\"sk-estimator-id-1\" class=\"sk-toggleable__label sk-toggleable__label-arrow\">RandomForestClassifier</label><div class=\"sk-toggleable__content\"><pre>RandomForestClassifier(random_state=42)</pre></div></div></div></div></div>"
      ],
      "text/plain": [
       "RandomForestClassifier(random_state=42)"
      ]
     },
     "execution_count": 5,
     "metadata": {},
     "output_type": "execute_result"
    }
   ],
   "source": [
    "from sklearn.ensemble import RandomForestClassifier\n",
    "clf = RandomForestClassifier(n_estimators=100, max_depth=None, min_samples_split=2, min_samples_leaf=1, random_state=42)\n",
    "clf.fit(X_train, y_train)"
   ]
  },
  {
   "cell_type": "code",
   "execution_count": 6,
   "id": "55681441",
   "metadata": {},
   "outputs": [],
   "source": [
    "# Make predictions on the test set using the best model\n",
    "y_pred = clf.predict(X_test)"
   ]
  },
  {
   "cell_type": "code",
   "execution_count": 7,
   "id": "433a80e2",
   "metadata": {},
   "outputs": [
    {
     "name": "stdout",
     "output_type": "stream",
     "text": [
      "Test Accuracy: 1.0\n"
     ]
    }
   ],
   "source": [
    "# Calculate accuracy on the test set\n",
    "from sklearn.metrics import accuracy_score\n",
    "accuracy = accuracy_score(y_test, y_pred)\n",
    "print(\"Test Accuracy:\", accuracy)"
   ]
  },
  {
   "cell_type": "code",
   "execution_count": 8,
   "id": "dc207c45",
   "metadata": {},
   "outputs": [
    {
     "name": "stdout",
     "output_type": "stream",
     "text": [
      "[[23  0  0 ...  0  0  0]\n",
      " [ 0 31  0 ...  0  0  0]\n",
      " [ 0  0 23 ...  0  0  0]\n",
      " ...\n",
      " [ 0  0  0 ... 23  0  0]\n",
      " [ 0  0  0 ...  0 21  0]\n",
      " [ 0  0  0 ...  0  0 29]]\n",
      "                                         precision    recall  f1-score   support\n",
      "\n",
      "(vertigo) Paroymsal  Positional Vertigo       1.00      1.00      1.00        23\n",
      "                                   AIDS       1.00      1.00      1.00        31\n",
      "                                   Acne       1.00      1.00      1.00        23\n",
      "                    Alcoholic hepatitis       1.00      1.00      1.00        23\n",
      "                                Allergy       1.00      1.00      1.00        24\n",
      "                              Arthritis       1.00      1.00      1.00        23\n",
      "                       Bronchial Asthma       1.00      1.00      1.00        32\n",
      "                   Cervical spondylosis       1.00      1.00      1.00        26\n",
      "                            Chicken pox       1.00      1.00      1.00        28\n",
      "                    Chronic cholestasis       1.00      1.00      1.00        18\n",
      "                            Common Cold       1.00      1.00      1.00        25\n",
      "                                 Dengue       1.00      1.00      1.00        30\n",
      "                              Diabetes        1.00      1.00      1.00        21\n",
      "           Dimorphic hemmorhoids(piles)       1.00      1.00      1.00        22\n",
      "                          Drug Reaction       1.00      1.00      1.00        27\n",
      "                       Fungal infection       1.00      1.00      1.00        27\n",
      "                                   GERD       1.00      1.00      1.00        24\n",
      "                        Gastroenteritis       1.00      1.00      1.00        18\n",
      "                           Heart attack       1.00      1.00      1.00        19\n",
      "                            Hepatitis B       1.00      1.00      1.00        27\n",
      "                            Hepatitis C       1.00      1.00      1.00        24\n",
      "                            Hepatitis D       1.00      1.00      1.00        27\n",
      "                            Hepatitis E       1.00      1.00      1.00        31\n",
      "                          Hypertension        1.00      1.00      1.00        20\n",
      "                        Hyperthyroidism       1.00      1.00      1.00        28\n",
      "                           Hypoglycemia       1.00      1.00      1.00        25\n",
      "                         Hypothyroidism       1.00      1.00      1.00        22\n",
      "                               Impetigo       1.00      1.00      1.00        28\n",
      "                               Jaundice       1.00      1.00      1.00        28\n",
      "                                Malaria       1.00      1.00      1.00        15\n",
      "                               Migraine       1.00      1.00      1.00        17\n",
      "                        Osteoarthristis       1.00      1.00      1.00        25\n",
      "           Paralysis (brain hemorrhage)       1.00      1.00      1.00        23\n",
      "                    Peptic ulcer diseae       1.00      1.00      1.00        21\n",
      "                              Pneumonia       1.00      1.00      1.00        31\n",
      "                              Psoriasis       1.00      1.00      1.00        24\n",
      "                           Tuberculosis       1.00      1.00      1.00        22\n",
      "                                Typhoid       1.00      1.00      1.00        26\n",
      "                Urinary tract infection       1.00      1.00      1.00        23\n",
      "                         Varicose veins       1.00      1.00      1.00        21\n",
      "                            hepatitis A       1.00      1.00      1.00        29\n",
      "\n",
      "                               accuracy                           1.00      1001\n",
      "                              macro avg       1.00      1.00      1.00      1001\n",
      "                           weighted avg       1.00      1.00      1.00      1001\n",
      "\n"
     ]
    }
   ],
   "source": [
    "from sklearn.metrics import confusion_matrix, classification_report\n",
    "cm = confusion_matrix(y_test, y_pred)\n",
    "report = classification_report(y_test, y_pred,zero_division=1)\n",
    "print(cm)\n",
    "print(report)"
   ]
  },
  {
   "cell_type": "code",
   "execution_count": 9,
   "id": "acdce522",
   "metadata": {},
   "outputs": [
    {
     "name": "stdout",
     "output_type": "stream",
     "text": [
      "['Fungal infection']\n"
     ]
    }
   ],
   "source": [
    "# predictions on the first element\n",
    "pred_first_element = clf.predict(X_test.iloc[[0]])\n",
    "print(pred_first_element)"
   ]
  },
  {
   "cell_type": "code",
   "execution_count": 10,
   "id": "02b8d900",
   "metadata": {},
   "outputs": [
    {
     "name": "stdout",
     "output_type": "stream",
     "text": [
      "['Osteoarthristis']\n"
     ]
    }
   ],
   "source": [
    "# predictions on the second element\n",
    "pred_second_element = clf.predict(X_test.iloc[[1]])\n",
    "print(pred_second_element)"
   ]
  },
  {
   "cell_type": "code",
   "execution_count": 11,
   "id": "99439b6a",
   "metadata": {},
   "outputs": [
    {
     "name": "stdout",
     "output_type": "stream",
     "text": [
      "['Fungal infection']\n"
     ]
    },
    {
     "name": "stderr",
     "output_type": "stream",
     "text": [
      "C:\\Users\\Rengarajan\\anaconda3\\lib\\site-packages\\sklearn\\base.py:465: UserWarning: X does not have valid feature names, but RandomForestClassifier was fitted with feature names\n",
      "  warnings.warn(\n"
     ]
    }
   ],
   "source": [
    "# predictions on the user data\n",
    "pred_user_data = clf.predict([[1,1,1,0,0,0,0,0,0,0,0,0,0,0,0,0,0,0,0,0,0,0,0,0,0,0,0,0,0,0,0,0,0,0,0,0,0,0,0,0,0,0,0,0,0,0,0,0,0,0,0,0,0,0,0,0,0,0,0,0,0,0,0,0,0,0,0,0,0,0,0,0,0,0,0,0,0,0,0,0,0,0,0,0,0,0,0,0,0,0,0,0,0,0,0,0,0,0,0,0,0,0,1,0,0,0,0,0,0,0,0,0,0,0,0,0,0,0,0,0,0,0,0,0,0,0,0,0,0,0,0,0]])\n",
    "print(pred_user_data)"
   ]
  },
  {
   "cell_type": "code",
   "execution_count": 12,
   "id": "c9b11b7f",
   "metadata": {},
   "outputs": [
    {
     "name": "stdout",
     "output_type": "stream",
     "text": [
      "['Allergy']\n"
     ]
    },
    {
     "name": "stderr",
     "output_type": "stream",
     "text": [
      "C:\\Users\\Rengarajan\\anaconda3\\lib\\site-packages\\sklearn\\base.py:465: UserWarning: X does not have valid feature names, but RandomForestClassifier was fitted with feature names\n",
      "  warnings.warn(\n"
     ]
    }
   ],
   "source": [
    "# predictions on the user data\n",
    "pred_user_data = clf.predict([[0,0,0,1,1,1,0,0,0,0,0,0,0,0,0,0,0,0,0,0,0,0,0,0,0,0,0,0,0,0,0,0,0,0,0,0,0,0,0,0,0,0,0,0,0,0,0,0,0,0,0,0,0,0,0,0,0,0,0,0,0,0,0,0,0,0,0,0,0,0,0,0,0,0,0,0,0,0,0,0,0,0,0,0,0,0,0,0,0,0,0,0,0,0,0,0,0,0,0,0,0,0,0,1,0,0,0,0,0,0,0,0,0,0,0,0,0,0,0,0,0,0,0,0,0,0,0,0,0,0,0,0]])\n",
    "print(pred_user_data)"
   ]
  },
  {
   "cell_type": "code",
   "execution_count": 13,
   "id": "2434d779",
   "metadata": {},
   "outputs": [
    {
     "name": "stdout",
     "output_type": "stream",
     "text": [
      "['Allergy']\n"
     ]
    },
    {
     "name": "stderr",
     "output_type": "stream",
     "text": [
      "C:\\Users\\Rengarajan\\anaconda3\\lib\\site-packages\\sklearn\\base.py:465: UserWarning: X does not have valid feature names, but RandomForestClassifier was fitted with feature names\n",
      "  warnings.warn(\n"
     ]
    }
   ],
   "source": [
    "# predictions on the user data\n",
    "pred_user_data = clf.predict([[0,0,0,1,1,1,0,0,0,0,0,0,1,0,0,1,0,0,0,0,0,0,0,0,0,0,0,0,1,0,0,0,0,0,0,0,0,0,0,0,0,0,0,0,0,0,0,0,0,0,0,0,0,0,0,0,0,0,0,0,0,0,0,0,0,0,0,0,0,0,0,0,0,0,0,0,0,0,0,0,0,0,0,0,0,0,0,0,0,0,0,0,0,0,0,0,0,0,0,0,0,0,0,1,0,0,0,0,0,0,0,0,0,0,0,0,0,0,0,0,0,0,0,0,0,0,0,0,0,0,0,0]])\n",
    "print(pred_user_data)"
   ]
  },
  {
   "cell_type": "code",
   "execution_count": 14,
   "id": "5e9f8855",
   "metadata": {},
   "outputs": [],
   "source": [
    "import warnings\n",
    "\n",
    "# Filter out the UserWarning about feature names\n",
    "warnings.filterwarnings(\"ignore\", category=UserWarning, module=\"sklearn\")"
   ]
  },
  {
   "cell_type": "code",
   "execution_count": 15,
   "id": "8102d10b",
   "metadata": {},
   "outputs": [
    {
     "name": "stdout",
     "output_type": "stream",
     "text": [
      "Psoriasis\n"
     ]
    }
   ],
   "source": [
    "# predictions on the user data\n",
    "pred_user_data = clf.predict([[0,1,0,0,0,0,1,0,0,0,0,0,0,0,0,0,0,0,0,0,0,0,0,0,0,0,0,0,0,0,0,0,0,0,0,0,0,0,0,0,0,0,0,0,0,0,0,0,0,0,0,0,0,0,0,0,0,0,0,0,0,0,0,0,0,0,0,0,0,0,0,0,0,0,0,0,0,0,0,0,0,0,0,0,0,0,0,0,0,0,0,0,0,0,0,0,0,0,0,0,0,0,0,0,0,0,0,0,0,0,0,0,0,0,0,0,0,0,0,0,0,0,0,0,0,1,1,1,1,0,0,0]])[0]\n",
    "print(pred_user_data)"
   ]
  },
  {
   "cell_type": "code",
   "execution_count": 17,
   "id": "ed25069e",
   "metadata": {},
   "outputs": [
    {
     "name": "stdout",
     "output_type": "stream",
     "text": [
      "Feature ranking:\n",
      "1. Feature 'muscle_pain' (0.02082782922897304)\n",
      "2. Feature 'dark_urine' (0.015728259434611497)\n",
      "3. Feature 'fatigue' (0.015414633808320923)\n",
      "4. Feature 'chest_pain' (0.015199863359488896)\n",
      "5. Feature 'itching' (0.015153536217762114)\n",
      "6. Feature 'lack_of_concentration' (0.01507639588616027)\n",
      "7. Feature 'yellowing_of_eyes' (0.014317576287931314)\n",
      "8. Feature 'internal_itching' (0.014241741655627702)\n",
      "9. Feature 'unsteadiness' (0.014104227383856562)\n",
      "10. Feature 'nausea' (0.013970676818580876)\n",
      "11. Feature 'altered_sensorium' (0.013514543200820217)\n",
      "12. Feature 'mild_fever' (0.013504344593291855)\n",
      "13. Feature 'headache' (0.013442918727504978)\n",
      "14. Feature 'loss_of_appetite' (0.01315952807921805)\n",
      "15. Feature 'joint_pain' (0.013105826351803624)\n",
      "16. Feature 'vomiting' (0.013032116519537786)\n",
      "17. Feature 'stomach_pain' (0.012824358919474478)\n",
      "18. Feature 'family_history' (0.0125131275693212)\n",
      "19. Feature 'abdominal_pain' (0.012498436524287195)\n",
      "20. Feature 'high_fever' (0.012100426144522294)\n",
      "21. Feature 'sweating' (0.01155011133084181)\n",
      "22. Feature 'blood_in_sputum' (0.011160943063934503)\n",
      "23. Feature 'weight_loss' (0.010893555181968464)\n",
      "24. Feature 'diarrhoea' (0.010786981992297346)\n",
      "25. Feature 'bladder_discomfort' (0.010270862001124748)\n",
      "26. Feature 'shivering' (0.009693879673537955)\n",
      "27. Feature 'mucoid_sputum' (0.009606206732062519)\n",
      "28. Feature 'breathlessness' (0.009591553429111032)\n",
      "29. Feature 'dischromic _patches' (0.009587669464593818)\n",
      "30. Feature 'pain_behind_the_eyes' (0.009414605660713912)\n",
      "31. Feature 'stomach_bleeding' (0.009329737329862866)\n",
      "32. Feature 'dehydration' (0.009297685156085627)\n",
      "33. Feature 'nodal_skin_eruptions' (0.009215609198420537)\n",
      "34. Feature 'continuous_feel_of_urine' (0.009175183647584467)\n",
      "35. Feature 'stiff_neck' (0.009099990534574203)\n",
      "36. Feature 'chills' (0.008917469028158128)\n",
      "37. Feature 'sunken_eyes' (0.00887890370862364)\n",
      "38. Feature 'blackheads' (0.008705189322522074)\n",
      "39. Feature 'rusty_sputum' (0.008640962365350993)\n",
      "40. Feature 'yellowish_skin' (0.008532847422233435)\n",
      "41. Feature 'malaise' (0.008516212239165578)\n",
      "42. Feature 'neck_pain' (0.008508090487128741)\n",
      "43. Feature 'ulcers_on_tongue' (0.008506219982158843)\n",
      "44. Feature 'weakness_of_one_body_side' (0.008393795832483042)\n",
      "45. Feature 'cough' (0.008372880053938164)\n",
      "46. Feature 'watering_from_eyes' (0.008353780229077467)\n",
      "47. Feature 'increased_appetite' (0.008337366665701137)\n",
      "48. Feature 'swelling_joints' (0.008154423348478223)\n",
      "49. Feature 'loss_of_balance' (0.008119700426874734)\n",
      "50. Feature 'coma' (0.007926186576034711)\n",
      "51. Feature 'fluid_overload.1' (0.007924535052314007)\n",
      "52. Feature 'weakness_in_limbs' (0.007854051459968238)\n",
      "53. Feature 'movement_stiffness' (0.007818876556543695)\n",
      "54. Feature 'muscle_weakness' (0.007685443667349145)\n",
      "55. Feature 'scurring' (0.007683622092578679)\n",
      "56. Feature 'inflammatory_nails' (0.007568375978861589)\n",
      "57. Feature 'belly_pain' (0.007559175196008523)\n",
      "58. Feature 'palpitations' (0.007558005207808403)\n",
      "59. Feature 'blister' (0.0075156652551187355)\n",
      "60. Feature 'receiving_unsterile_injections' (0.007409313347037587)\n",
      "61. Feature 'constipation' (0.007373557798023515)\n",
      "62. Feature 'visual_disturbances' (0.007279418690377245)\n",
      "63. Feature 'receiving_blood_transfusion' (0.007245092748270489)\n",
      "64. Feature 'spotting_ urination' (0.007237539209206728)\n",
      "65. Feature 'skin_rash' (0.007176777522635752)\n",
      "66. Feature 'fast_heart_rate' (0.007104057068153745)\n",
      "67. Feature 'irritability' (0.007050570250362661)\n",
      "68. Feature 'red_sore_around_nose' (0.006999394572194792)\n",
      "69. Feature 'polyuria' (0.006936612015322844)\n",
      "70. Feature 'cramps' (0.006931661035744471)\n",
      "71. Feature 'abnormal_menstruation' (0.006816752217152849)\n",
      "72. Feature 'pus_filled_pimples' (0.0067913152468141)\n",
      "73. Feature 'red_spots_over_body' (0.00678605360604961)\n",
      "74. Feature 'depression' (0.006752837048698871)\n",
      "75. Feature 'knee_pain' (0.006743856428821279)\n",
      "76. Feature 'slurred_speech' (0.006737480213021043)\n",
      "77. Feature 'silver_like_dusting' (0.006551533883851765)\n",
      "78. Feature 'prominent_veins_on_calf' (0.006551457851318395)\n",
      "79. Feature 'passage_of_gases' (0.006522562303712501)\n",
      "80. Feature 'brittle_nails' (0.006474517957534862)\n",
      "81. Feature 'muscle_wasting' (0.006450608761335844)\n",
      "82. Feature 'irritation_in_anus' (0.006369168730796276)\n",
      "83. Feature 'dizziness' (0.006332094588598779)\n",
      "84. Feature 'hip_joint_pain' (0.006288642972369186)\n",
      "85. Feature 'swollen_extremeties' (0.006231826672158507)\n",
      "86. Feature 'yellow_crust_ooze' (0.006211324819644573)\n",
      "87. Feature 'burning_micturition' (0.005924846104236927)\n",
      "88. Feature 'swelled_lymph_nodes' (0.005848722076156264)\n",
      "89. Feature 'history_of_alcohol_consumption' (0.00574886924741001)\n",
      "90. Feature 'swelling_of_stomach' (0.005674306515469624)\n",
      "91. Feature 'back_pain' (0.005666842075721873)\n",
      "92. Feature 'extra_marital_contacts' (0.005592108467366959)\n",
      "93. Feature 'acidity' (0.005527910199187052)\n",
      "94. Feature 'distention_of_abdomen' (0.0054941811895228695)\n",
      "95. Feature 'patches_in_throat' (0.005470601623097304)\n",
      "96. Feature 'toxic_look_(typhos)' (0.0054124801213413665)\n",
      "97. Feature 'bloody_stool' (0.005364700931155691)\n",
      "98. Feature 'painful_walking' (0.005174168453608511)\n",
      "99. Feature 'pain_during_bowel_movements' (0.005033412926350804)\n",
      "100. Feature 'small_dents_in_nails' (0.004907773912986081)\n",
      "101. Feature 'lethargy' (0.004881526179153456)\n",
      "102. Feature 'spinning_movements' (0.004823924332220315)\n",
      "103. Feature 'phlegm' (0.004823838946217618)\n",
      "104. Feature 'sinus_pressure' (0.004766620655845289)\n",
      "105. Feature 'indigestion' (0.00474670829998519)\n",
      "106. Feature 'bruising' (0.004587386855897657)\n",
      "107. Feature 'runny_nose' (0.004567515906815692)\n",
      "108. Feature 'restlessness' (0.004452519565043433)\n",
      "109. Feature 'irregular_sugar_level' (0.004398717722108868)\n",
      "110. Feature 'mood_swings' (0.00406024366838046)\n",
      "111. Feature 'pain_in_anal_region' (0.004017596077827313)\n",
      "112. Feature 'throat_irritation' (0.004001086943034493)\n",
      "113. Feature 'enlarged_thyroid' (0.003945788348607616)\n",
      "114. Feature 'excessive_hunger' (0.003913280942339896)\n",
      "115. Feature 'acute_liver_failure' (0.0038653605739260395)\n",
      "116. Feature 'blurred_and_distorted_vision' (0.003756177437797193)\n",
      "117. Feature 'yellow_urine' (0.0036950844522866287)\n",
      "118. Feature 'continuous_sneezing' (0.0036820149677579185)\n",
      "119. Feature 'skin_peeling' (0.003656056320209863)\n",
      "120. Feature 'foul_smell_of urine' (0.003398738082953066)\n",
      "121. Feature 'redness_of_eyes' (0.0033734006233711485)\n",
      "122. Feature 'swollen_legs' (0.003281460188122505)\n",
      "123. Feature 'obesity' (0.003113222940323594)\n",
      "124. Feature 'congestion' (0.0030981422980308243)\n",
      "125. Feature 'anxiety' (0.002789293432453089)\n",
      "126. Feature 'drying_and_tingling_lips' (0.0027890843290352863)\n",
      "127. Feature 'cold_hands_and_feets' (0.002592015105085313)\n",
      "128. Feature 'loss_of_smell' (0.0020560557749279827)\n",
      "129. Feature 'swollen_blood_vessels' (0.001991293084898772)\n",
      "130. Feature 'puffy_face_and_eyes' (0.001676323668099244)\n",
      "131. Feature 'weight_gain' (0.0005658516121360777)\n",
      "132. Feature 'fluid_overload' (0.0)\n"
     ]
    }
   ],
   "source": [
    "# Get feature importances\n",
    "importances = clf.feature_importances_\n",
    "\n",
    "# Get the indices of features sorted by importance\n",
    "indices = np.argsort(importances)[::-1]\n",
    "\n",
    "# Print the feature ranking\n",
    "print(\"Feature ranking:\")\n",
    "for f in range(X_train.shape[1]):\n",
    "    feature_index = indices[f]\n",
    "    feature_name = X_train.columns[feature_index]  # Assuming X_train is a pandas DataFrame\n",
    "    print(f\"{f + 1}. Feature '{feature_name}' ({importances[feature_index]})\")"
   ]
  },
  {
   "cell_type": "code",
   "execution_count": 18,
   "id": "a61cf6ab",
   "metadata": {},
   "outputs": [
    {
     "data": {
      "image/png": "[encoded data removed]",
      "text/plain": [
       "<Figure size 1000x600 with 1 Axes>"
      ]
     },
     "metadata": {},
     "output_type": "display_data"
    }
   ],
   "source": [
    "# You can also plot the feature importances\n",
    "import matplotlib.pyplot as plt\n",
    "\n",
    "plt.figure(figsize=(10, 6))\n",
    "plt.title(\"Feature Importances\")\n",
    "plt.bar(range(X_train.shape[1]), importances[indices], align=\"center\")\n",
    "plt.xticks(range(X_train.shape[1]), indices)\n",
    "plt.xlabel(\"Feature Index\")\n",
    "plt.ylabel(\"Importance\")\n",
    "plt.show()"
   ]
  },
  {
   "cell_type": "code",
   "execution_count": null,
   "id": "9f7e456d",
   "metadata": {},
   "outputs": [],
   "source": []
  }
 ],
 "metadata": {
  "kernelspec": {
   "display_name": "Python 3 (ipykernel)",
   "language": "python",
   "name": "python3"
  },
  "language_info": {
   "codemirror_mode": {
    "name": "ipython",
    "version": 3
   },
   "file_extension": ".py",
   "mimetype": "text/x-python",
   "name": "python",
   "nbconvert_exporter": "python",
   "pygments_lexer": "ipython3",
   "version": "3.10.13"
  }
 },
 "nbformat": 4,
 "nbformat_minor": 5
}
